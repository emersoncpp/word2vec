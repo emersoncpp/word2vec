{
  "nbformat": 4,
  "nbformat_minor": 0,
  "metadata": {
    "colab": {
      "name": "Ducks",
      "provenance": [],
      "include_colab_link": true
    },
    "kernelspec": {
      "name": "python3",
      "display_name": "Python 3"
    }
  },
  "cells": [
    {
      "cell_type": "markdown",
      "metadata": {
        "id": "view-in-github",
        "colab_type": "text"
      },
      "source": [
        "<a href=\"https://colab.research.google.com/github/emersoncpp/word2vec/blob/master/Ducks_BERT.ipynb\" target=\"_parent\"><img src=\"https://colab.research.google.com/assets/colab-badge.svg\" alt=\"Open In Colab\"/></a>"
      ]
    },
    {
      "cell_type": "markdown",
      "metadata": {
        "id": "El1iz6fT7vl6",
        "colab_type": "text"
      },
      "source": [
        "# Identifying meanings using BERT\n",
        "Identifying the different meanings of the word 'duck' using BERT embeddings"
      ]
    },
    {
      "cell_type": "markdown",
      "metadata": {
        "id": "RAfeBLY-FCAO",
        "colab_type": "text"
      },
      "source": [
        "Import python resources"
      ]
    },
    {
      "cell_type": "code",
      "metadata": {
        "id": "V4re6bbpEqE_",
        "colab_type": "code",
        "outputId": "992680e2-fc8b-4928-ed98-a73b2b2c8897",
        "colab": {
          "base_uri": "https://localhost:8080/",
          "height": 340
        }
      },
      "source": [
        "import pandas as pd\n",
        "import numpy as np\n",
        "!pip install -e git+https://github.com/negedng/bert-embedding#egg=bert_embedding\n",
        "from sklearn.decomposition import PCA\n",
        "from sklearn.neighbors import KNeighborsClassifier\n",
        "from sklearn.model_selection import LeaveOneOut\n",
        "from sklearn import model_selection\n",
        "import matplotlib.pyplot as plt\n",
        "%matplotlib inline\n"
      ],
      "execution_count": 0,
      "outputs": [
        {
          "output_type": "stream",
          "text": [
            "Obtaining bert_embedding from git+https://github.com/negedng/bert-embedding#egg=bert_embedding\n",
            "  Updating ./src/bert-embedding clone\n",
            "  Running command git fetch -q --tags\n",
            "  Running command git reset --hard -q 32fb23a1398f824aea7c7c9e6ec89843dc7d0c91\n",
            "Requirement already satisfied: typing>=3.6.6 in /usr/local/lib/python3.6/dist-packages (from bert_embedding) (3.7.4.1)\n",
            "Requirement already satisfied: numpy>=1.14.6 in /usr/local/lib/python3.6/dist-packages (from bert_embedding) (1.16.5)\n",
            "Requirement already satisfied: mxnet>=1.4.0 in /usr/local/lib/python3.6/dist-packages (from bert_embedding) (1.5.1.post0)\n",
            "Requirement already satisfied: gluonnlp>=0.6.0 in /usr/local/lib/python3.6/dist-packages (from bert_embedding) (0.8.1)\n",
            "Requirement already satisfied: graphviz<0.9.0,>=0.8.1 in /usr/local/lib/python3.6/dist-packages (from mxnet>=1.4.0->bert_embedding) (0.8.4)\n",
            "Requirement already satisfied: requests<3,>=2.20.0 in /usr/local/lib/python3.6/dist-packages (from mxnet>=1.4.0->bert_embedding) (2.21.0)\n",
            "Requirement already satisfied: chardet<3.1.0,>=3.0.2 in /usr/local/lib/python3.6/dist-packages (from requests<3,>=2.20.0->mxnet>=1.4.0->bert_embedding) (3.0.4)\n",
            "Requirement already satisfied: idna<2.9,>=2.5 in /usr/local/lib/python3.6/dist-packages (from requests<3,>=2.20.0->mxnet>=1.4.0->bert_embedding) (2.8)\n",
            "Requirement already satisfied: certifi>=2017.4.17 in /usr/local/lib/python3.6/dist-packages (from requests<3,>=2.20.0->mxnet>=1.4.0->bert_embedding) (2019.9.11)\n",
            "Requirement already satisfied: urllib3<1.25,>=1.21.1 in /usr/local/lib/python3.6/dist-packages (from requests<3,>=2.20.0->mxnet>=1.4.0->bert_embedding) (1.24.3)\n",
            "Installing collected packages: bert-embedding\n",
            "  Found existing installation: bert-embedding 1.0.1\n",
            "    Can't uninstall 'bert-embedding'. No files were found to uninstall.\n",
            "  Running setup.py develop for bert-embedding\n",
            "Successfully installed bert-embedding\n"
          ],
          "name": "stdout"
        }
      ]
    },
    {
      "cell_type": "markdown",
      "metadata": {
        "id": "oKEMfVfzFHRo",
        "colab_type": "text"
      },
      "source": [
        "Load csv from GitHub"
      ]
    },
    {
      "cell_type": "code",
      "metadata": {
        "id": "Uo5eAFGVExF_",
        "colab_type": "code",
        "colab": {}
      },
      "source": [
        "url = \"https://gist.githubusercontent.com/negedng/91c4cb1335a4b2bbc3fcf7aba3c6ecda/raw/3fc0b641caa95ebba986b1313522f59ecd757a2b/ducks2019type3.csv\"\n",
        "df1 = pd.read_csv(url)"
      ],
      "execution_count": 0,
      "outputs": []
    },
    {
      "cell_type": "code",
      "metadata": {
        "id": "4NUDw0hNE9PV",
        "colab_type": "code",
        "colab": {}
      },
      "source": [
        "from bert_embedding import BertEmbedding\n",
        "bert_embedding = BertEmbedding(max_seq_length=35)\n"
      ],
      "execution_count": 0,
      "outputs": []
    },
    {
      "cell_type": "markdown",
      "metadata": {
        "id": "N2Mtf0GM35Qx",
        "colab_type": "text"
      },
      "source": [
        "Generate BERT embedding for every token of every sentence"
      ]
    },
    {
      "cell_type": "code",
      "metadata": {
        "id": "sdQmyzDVGEYh",
        "colab_type": "code",
        "colab": {}
      },
      "source": [
        "embs = bert_embedding(df1['Sentence'], filter_spec_tokens=False,)"
      ],
      "execution_count": 0,
      "outputs": []
    },
    {
      "cell_type": "markdown",
      "metadata": {
        "id": "5A-GLbfY4Bed",
        "colab_type": "text"
      },
      "source": [
        "Select the 'duck' embeddings"
      ]
    },
    {
      "cell_type": "code",
      "metadata": {
        "id": "eyeroYq6G224",
        "colab_type": "code",
        "colab": {}
      },
      "source": [
        "duck_embs = []\n",
        "for row in embs:\n",
        "    try:\n",
        "        duck_index = row[0].index('duck')\n",
        "        duck_embs.append(row[1][duck_index])\n",
        "    except ValueError:\n",
        "        print(len(row[0]))"
      ],
      "execution_count": 0,
      "outputs": []
    },
    {
      "cell_type": "code",
      "metadata": {
        "id": "BuvvM2sTG79-",
        "colab_type": "code",
        "outputId": "189b5b97-c65f-4f15-c9c1-18bb16b6f5fc",
        "colab": {
          "base_uri": "https://localhost:8080/",
          "height": 34
        }
      },
      "source": [
        "duck_embs = np.array(duck_embs)\n",
        "duck_embs.shape"
      ],
      "execution_count": 0,
      "outputs": [
        {
          "output_type": "execute_result",
          "data": {
            "text/plain": [
              "(77, 768)"
            ]
          },
          "metadata": {
            "tags": []
          },
          "execution_count": 80
        }
      ]
    },
    {
      "cell_type": "markdown",
      "metadata": {
        "id": "wVYuHD0z4fsv",
        "colab_type": "text"
      },
      "source": [
        "PCA projection to 2D"
      ]
    },
    {
      "cell_type": "code",
      "metadata": {
        "id": "SgIYuACzRB91",
        "colab_type": "code",
        "outputId": "f7e4d173-e247-4bf0-f7c5-22435892750f",
        "colab": {
          "base_uri": "https://localhost:8080/",
          "height": 34
        }
      },
      "source": [
        "duck_pca = PCA(n_components=2).fit_transform(duck_embs)\n",
        "duck_pca.shape"
      ],
      "execution_count": 0,
      "outputs": [
        {
          "output_type": "execute_result",
          "data": {
            "text/plain": [
              "(77, 2)"
            ]
          },
          "metadata": {
            "tags": []
          },
          "execution_count": 81
        }
      ]
    },
    {
      "cell_type": "markdown",
      "metadata": {
        "id": "SKJ9sc_C4i8W",
        "colab_type": "text"
      },
      "source": [
        "Plot the results (group to classes)"
      ]
    },
    {
      "cell_type": "code",
      "metadata": {
        "id": "tcZmqWVNRiI6",
        "colab_type": "code",
        "outputId": "becf7468-694c-4095-aa28-db51bc3dd1d5",
        "colab": {
          "base_uri": "https://localhost:8080/",
          "height": 432
        }
      },
      "source": [
        "cdict = {0: 'red', 1: 'blue', 2: 'green'}\n",
        "markers = {0: 'o', 1: '+', 2: 'v'}\n",
        "labels = {0: 'bird', 1: 'verb', 2: 'fabric'}\n",
        "\n",
        "scatter_x = duck_pca[:,0]\n",
        "scatter_y = duck_pca[:,1]\n",
        "fig, ax = plt.subplots(figsize=(10, 7))\n",
        "for g in np.unique(df1.Type):\n",
        "    ix = np.where(df1.Type == g)\n",
        "    ax.scatter(scatter_x[ix], scatter_y[ix], c = cdict[g], label = labels[g], s=100, marker=markers[g])\n",
        "ax.legend(prop={'size': 12})\n",
        "plt.show()"
      ],
      "execution_count": 0,
      "outputs": [
        {
          "output_type": "display_data",
          "data": {
            "image/png": "[encoded data removed]",
            "text/plain": [
              "<Figure size 720x504 with 1 Axes>"
            ]
          },
          "metadata": {
            "tags": []
          }
        }
      ]
    },
    {
      "cell_type": "markdown",
      "metadata": {
        "id": "NhFk1URs7fem",
        "colab_type": "text"
      },
      "source": [
        "Evaluate a k-NN (k-Nearest Neighbour Classifier) model with LOOCV (Leave One Out Cross-Validation)"
      ]
    },
    {
      "cell_type": "code",
      "metadata": {
        "id": "51S5Bl6DRkSa",
        "colab_type": "code",
        "outputId": "87b70c47-6534-4b7d-8fd1-b0c1aaa5339e",
        "colab": {
          "base_uri": "https://localhost:8080/",
          "height": 34
        }
      },
      "source": [
        "loocv = model_selection.LeaveOneOut()\n",
        "model = KNeighborsClassifier(n_neighbors=8)\n",
        "results = model_selection.cross_val_score(model, duck_embs, df1.Type, cv=loocv)\n",
        "print(\"Accuracy: %.3f%% (STDev %.3f%%)\" % (results.mean()*100.0, results.std()*100.0))"
      ],
      "execution_count": 0,
      "outputs": [
        {
          "output_type": "stream",
          "text": [
            "Accuracy: 92.208% (STDev 26.805%)\n"
          ],
          "name": "stdout"
        }
      ]
    },
    {
      "cell_type": "code",
      "metadata": {
        "id": "gIbC_hzB5M-D",
        "colab_type": "code",
        "colab": {}
      },
      "source": [
        ""
      ],
      "execution_count": 0,
      "outputs": []
    }
  ]
}